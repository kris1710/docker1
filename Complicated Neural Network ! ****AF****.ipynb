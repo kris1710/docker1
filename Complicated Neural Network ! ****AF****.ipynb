{
 "cells": [
  {
   "cell_type": "code",
   "execution_count": 1,
   "metadata": {},
   "outputs": [],
   "source": [
    "import numpy as np"
   ]
  },
  {
   "cell_type": "code",
   "execution_count": 79,
   "metadata": {},
   "outputs": [],
   "source": [
    "def fib(n):\n",
    "    if n==0:\n",
    "        return 0\n",
    "        \n",
    "    if n<=2:\n",
    "        return 1\n",
    "    \n",
    "    else:\n",
    "        arr=-1*np.ones(n)\n",
    "        arr[0]=1\n",
    "        arr[1]=1\n",
    "    for i in range(2,n):\n",
    "        if arr[i]==-1:\n",
    "            arr[i]=arr[i-1]+arr[i-2]\n",
    "    return arr[n]\n",
    "\n",
    "\n"
   ]
  },
  {
   "cell_type": "code",
   "execution_count": 38,
   "metadata": {},
   "outputs": [
    {
     "name": "stdout",
     "output_type": "stream",
     "text": [
      "true\n"
     ]
    },
    {
     "data": {
      "text/plain": [
       "90"
      ]
     },
     "execution_count": 38,
     "metadata": {},
     "output_type": "execute_result"
    }
   ],
   "source": [
    "f={}\n",
    "f[1]=[26,27,28]\n",
    "if 1 in f:\n",
    "    print('true')\n",
    "    f[1].append((90,91))\n",
    "else:\n",
    "    print('false')\n",
    "    \n",
    "f[1][3]"
   ]
  },
  {
   "cell_type": "code",
   "execution_count": 57,
   "metadata": {},
   "outputs": [
    {
     "name": "stdout",
     "output_type": "stream",
     "text": [
      "2\n",
      "(1, 1) (1, 1)\n",
      "9\n",
      "(1, 2) (1, 2)\n",
      "(1, 2) (2, 1)\n",
      "(2, 1) (1, 2)\n",
      "(2, 1) (2, 1)\n",
      "28\n",
      "(1, 3) (1, 3)\n",
      "(1, 3) (3, 1)\n",
      "(3, 1) (1, 3)\n",
      "(3, 1) (3, 1)\n",
      "65\n",
      "(1, 4) (1, 4)\n",
      "(1, 4) (4, 1)\n",
      "(4, 1) (1, 4)\n",
      "(4, 1) (4, 1)\n",
      "126\n",
      "(1, 5) (1, 5)\n",
      "(1, 5) (5, 1)\n",
      "(5, 1) (1, 5)\n",
      "(5, 1) (5, 1)\n",
      "16\n",
      "(2, 2) (2, 2)\n",
      "35\n",
      "(2, 3) (2, 3)\n",
      "(2, 3) (3, 2)\n",
      "(3, 2) (2, 3)\n",
      "(3, 2) (3, 2)\n",
      "72\n",
      "(2, 4) (2, 4)\n",
      "(2, 4) (4, 2)\n",
      "(4, 2) (2, 4)\n",
      "(4, 2) (4, 2)\n",
      "133\n",
      "(2, 5) (2, 5)\n",
      "(2, 5) (5, 2)\n",
      "(5, 2) (2, 5)\n",
      "(5, 2) (5, 2)\n",
      "54\n",
      "(3, 3) (3, 3)\n",
      "91\n",
      "(3, 4) (3, 4)\n",
      "(3, 4) (4, 3)\n",
      "(4, 3) (3, 4)\n",
      "(4, 3) (4, 3)\n",
      "152\n",
      "(3, 5) (3, 5)\n",
      "(3, 5) (5, 3)\n",
      "(5, 3) (3, 5)\n",
      "(5, 3) (5, 3)\n",
      "128\n",
      "(4, 4) (4, 4)\n",
      "189\n",
      "(4, 5) (4, 5)\n",
      "(4, 5) (5, 4)\n",
      "(5, 4) (4, 5)\n",
      "(5, 4) (5, 4)\n",
      "250\n",
      "(5, 5) (5, 5)\n"
     ]
    }
   ],
   "source": [
    "n=5\n",
    "dict1={}\n",
    "for a in range(1,n+1):\n",
    "    for b in range(1,n+1):\n",
    "        result=pow(a,3)+pow(b,3)\n",
    "        if result in dict1:\n",
    "            dict1[result].append((a,b))\n",
    "        else:\n",
    "            dict1[result]=[]\n",
    "            dict1[result].append((a,b))\n",
    "            \n",
    "for result in dict1.keys():\n",
    "    print(result)\n",
    "    for pair1 in dict1[result]:\n",
    "        for pair2 in dict1[result]:\n",
    "            print(pair1 , pair2)\n",
    "        \n",
    "        \n",
    "    \n",
    "    "
   ]
  },
  {
   "cell_type": "code",
   "execution_count": 3,
   "metadata": {},
   "outputs": [
    {
     "data": {
      "text/plain": [
       "[1, 2, 3]"
      ]
     },
     "execution_count": 3,
     "metadata": {},
     "output_type": "execute_result"
    }
   ],
   "source": [
    "a=[1,2,3,4]\n",
    "a[:-1]"
   ]
  },
  {
   "cell_type": "code",
   "execution_count": 42,
   "metadata": {},
   "outputs": [],
   "source": [
    "def higher(arr):\n",
    "    n=len(arr)\n",
    "    max1=-1\n",
    "    for i in range(n):\n",
    "        if arr[i]>max1:\n",
    "            max1=arr[i]\n",
    "    return max1\n",
    "\n",
    "def max_pairwise(arr):\n",
    "    max1,idx1=higher(arr)\n",
    "    arr.remove(max1)\n",
    "    max2,idx2=higher(arr)\n",
    "    return max1*max2\n",
    "        "
   ]
  },
  {
   "cell_type": "code",
   "execution_count": 89,
   "metadata": {},
   "outputs": [],
   "source": [
    "import numpy as np\n",
    "def fib_last(n):\n",
    "    if n<=2:\n",
    "        return 1\n",
    "    else:\n",
    "        fibs=np.ones(n)\n",
    "        for i in range(2,n):\n",
    "            fibs[i]=(fibs[i-1]+fibs[i-2])%10\n",
    "    return fibs\n",
    "\n",
    "\n",
    "\n",
    "def gcd(a,b):\n",
    "    if b==0:\n",
    "        return a\n",
    "    else:\n",
    "        a=a%b\n",
    "        return gcd(b,a)\n",
    "    \n",
    "def lcm(a,b):\n",
    "    g=gcd(a,b)\n",
    "    l=int((a*b)/g)\n",
    "    return l\n",
    "\n",
    "def picassn(n):\n",
    "    prev=0\n",
    "    current=1\n",
    "    k=1\n",
    "    flag=True\n",
    "    while flag:\n",
    "        prev,current=current,(prev+current)%n\n",
    "        if prev==0 and current==1:\n",
    "            flag=False\n",
    "        if flag==True:\n",
    "            k=k+1\n",
    "    return k\n"
   ]
  },
  {
   "cell_type": "code",
   "execution_count": 90,
   "metadata": {},
   "outputs": [
    {
     "data": {
      "text/plain": [
       "3"
      ]
     },
     "execution_count": 90,
     "metadata": {},
     "output_type": "execute_result"
    }
   ],
   "source": [
    "picassn(2)\n",
    "\n",
    "#"
   ]
  },
  {
   "cell_type": "code",
   "execution_count": 75,
   "metadata": {},
   "outputs": [
    {
     "data": {
      "text/plain": [
       "[1, 1, 1, 2, 2, 0, 0, 2, 2, 2, 2, 1, 1, 0, 0, 1]"
      ]
     },
     "execution_count": 75,
     "metadata": {},
     "output_type": "execute_result"
    }
   ],
   "source": [
    "picassn(3)"
   ]
  },
  {
   "cell_type": "code",
   "execution_count": 41,
   "metadata": {},
   "outputs": [
    {
     "data": {
      "text/plain": [
       "[1, 2, 3, 6, 1, 9]"
      ]
     },
     "execution_count": 41,
     "metadata": {},
     "output_type": "execute_result"
    }
   ],
   "source": [
    "h=h.remove()"
   ]
  },
  {
   "cell_type": "code",
   "execution_count": 34,
   "metadata": {},
   "outputs": [
    {
     "data": {
      "text/plain": [
       "[1, 2, 3, 6, 1]"
      ]
     },
     "execution_count": 34,
     "metadata": {},
     "output_type": "execute_result"
    }
   ],
   "source": [
    "h"
   ]
  },
  {
   "cell_type": "code",
   "execution_count": null,
   "metadata": {},
   "outputs": [],
   "source": []
  }
 ],
 "metadata": {
  "kernelspec": {
   "display_name": "Python 3",
   "language": "python",
   "name": "python3"
  },
  "language_info": {
   "codemirror_mode": {
    "name": "ipython",
    "version": 3
   },
   "file_extension": ".py",
   "mimetype": "text/x-python",
   "name": "python",
   "nbconvert_exporter": "python",
   "pygments_lexer": "ipython3",
   "version": "3.6.9"
  }
 },
 "nbformat": 4,
 "nbformat_minor": 4
}
